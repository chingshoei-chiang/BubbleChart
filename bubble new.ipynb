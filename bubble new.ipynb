{
 "cells": [
  {
   "cell_type": "code",
   "execution_count": 1,
   "id": "d9ec603e-afbc-4789-94c5-33e8f892e305",
   "metadata": {},
   "outputs": [
    {
     "data": {
      "text/html": [
       "<div id=\"glowscript\" class=\"glowscript\"></div>"
      ],
      "text/plain": [
       "<IPython.core.display.HTML object>"
      ]
     },
     "metadata": {},
     "output_type": "display_data"
    },
    {
     "data": {
      "application/javascript": [
       "if (typeof Jupyter !== \"undefined\") { window.__context = { glowscript_container: $(\"#glowscript\").removeAttr(\"id\")};}else{ element.textContent = ' ';}"
      ],
      "text/plain": [
       "<IPython.core.display.Javascript object>"
      ]
     },
     "metadata": {},
     "output_type": "display_data"
    },
    {
     "data": {
      "application/javascript": [
       "if (typeof Jupyter !== \"undefined\") {require.undef(\"nbextensions/vpython_libraries/glow.min\");}else{element.textContent = ' ';}"
      ],
      "text/plain": [
       "<IPython.core.display.Javascript object>"
      ]
     },
     "metadata": {},
     "output_type": "display_data"
    },
    {
     "data": {
      "application/javascript": [
       "if (typeof Jupyter !== \"undefined\") {require.undef(\"nbextensions/vpython_libraries/glowcomm\");}else{element.textContent = ' ';}"
      ],
      "text/plain": [
       "<IPython.core.display.Javascript object>"
      ]
     },
     "metadata": {},
     "output_type": "display_data"
    },
    {
     "data": {
      "application/javascript": [
       "if (typeof Jupyter !== \"undefined\") {require.undef(\"nbextensions/vpython_libraries/jquery-ui.custom.min\");}else{element.textContent = ' ';}"
      ],
      "text/plain": [
       "<IPython.core.display.Javascript object>"
      ]
     },
     "metadata": {},
     "output_type": "display_data"
    },
    {
     "data": {
      "application/javascript": [
       "if (typeof Jupyter !== \"undefined\") {require([\"nbextensions/vpython_libraries/glow.min\"], function(){console.log(\"GLOW LOADED\");});}else{element.textContent = ' ';}"
      ],
      "text/plain": [
       "<IPython.core.display.Javascript object>"
      ]
     },
     "metadata": {},
     "output_type": "display_data"
    },
    {
     "data": {
      "application/javascript": [
       "if (typeof Jupyter !== \"undefined\") {require([\"nbextensions/vpython_libraries/glowcomm\"], function(){console.log(\"GLOWCOMM LOADED\");});}else{element.textContent = ' ';}"
      ],
      "text/plain": [
       "<IPython.core.display.Javascript object>"
      ]
     },
     "metadata": {},
     "output_type": "display_data"
    },
    {
     "data": {
      "application/javascript": [
       "if (typeof Jupyter !== \"undefined\") {require([\"nbextensions/vpython_libraries/jquery-ui.custom.min\"], function(){console.log(\"JQUERY LOADED\");});}else{element.textContent = ' ';}"
      ],
      "text/plain": [
       "<IPython.core.display.Javascript object>"
      ]
     },
     "metadata": {},
     "output_type": "display_data"
    }
   ],
   "source": [
    "from math import *\n",
    "from sympy import *\n",
    "from vpython import *\n",
    "\n",
    "#1 Given the value for precision control variable\n",
    "eps = 0.01\n",
    "# assign symbols in sympy to solve system of equation\n",
    "x,y,z=symbols('x y z')\n",
    "\n",
    "#2 Functions for main program\n",
    "first_layer = lambda n: float(sin(pi/n)/(1-sin(pi/n)))\n",
    "f = lambda p,q: sqrt((p+q)**2-q**2)\n",
    "select = lambda c1, c2, c3, c4: c3 if (c2[0]-c1[0])*(c3[1]-c1[1])-(c2[1]-c1[1])*(c3[0]-c1[0])>0 else c4\n",
    "oneangle = lambda r, r0, r1: acos((r**2+r*(r0+r1)-r0*r1)/((r+r0)*(r+r1)))\n",
    "fixangle = lambda r: 2*oneangle(r,r,1)\n",
    "totalangle = lambda m,r, L: fixangle(r)+2*oneangle(r,r,L[0])+2*radiiangle(m,r,L)\n",
    "radiiangle = lambda m,r,L: sum([oneangle(r,L[i],L[i+1]) for i in range(len(L)-1)]) + (oneangle(r,L[-1],L[-1])/2 if m%2 else 0)\n",
    "def circlelist(m,L,c1,c2,c3):\n",
    "    if m == 0: \n",
    "        return L\n",
    "    else:\n",
    "        c=apollonius(c1,c2,c3)\n",
    "        L = L+[c]\n",
    "        c=(c[0],c[1],-c[2])\n",
    "        return circlelist(m-1, L, c1, c, c3) \n",
    "\n",
    "#3 Given 3 circles, find the circle (tangent to 3 circles) we want\n",
    "def apollonius(c1, c2, c3): \n",
    "    x1, y1, z1=c1;    x2, y2, z2=c2;     x3, y3, z3=c3          \n",
    "    eqn1, eqn2, eqn3  = (x-x1)**2+(y-y1)**2-(z-z1)**2, (x-x2)**2+(y-y2)**2-(z-z2)**2, (x-x3)**2+(y-y3)**2-(z-z3)**2\n",
    "    eqn13, eqn12 = delsmall(simplify(eqn1-eqn3)), delsmall(simplify(eqn1-eqn2))    \n",
    "    if y1==y2==y3:\n",
    "        L=solve([eqn13, eqn12], [x,z])\n",
    "        xy,zy=float(L[x]), float(L[z])\n",
    "        eqnlast = eqn1.subs([(x,xy),(z,zy)])    # f(z) is a degree 2 equation\n",
    "        L=solve(eqnlast, y)\n",
    "        c3,c4 = (xy, float(L[0]), zy), (xy, float(L[1]), zy)        \n",
    "    elif x1==x2==x3:\n",
    "        L=solve([eqn13, eqn12], [y,z])\n",
    "        yx,zx=float(L[y]), float(L[z])\n",
    "        eqnlast = eqn1.subs([(y,yx),(z,zx)])    # f(z) is a degree 2 equation\n",
    "        L=solve(eqnlast, x) \n",
    "        c3,c4 = (float(L[0]), yx, zx),(float(L[1]), yx, zx)\n",
    "    else: \n",
    "        L=solve([eqn13, eqn12],[x,y])\n",
    "        xz,yz=L[x], L[y]\n",
    "        eqnlast = simplify(eqn1.subs([(x,xz),(y,yz)]))    # f(z) is a degree 2 equation\n",
    "        L=solve(eqnlast, z)         # solve for y\n",
    "        z1, z2 = float(L[0]), float(L[1])\n",
    "        x1, x2 = float(xz.subs([(z,z1)])), float(xz.subs([(z,z2)]))\n",
    "        y1, y2 = float(yz.subs([(z,z1)])), float(yz.subs([(z,z2)]))\n",
    "        c3, c4 = (x1,y1,z1),(x2,y2,z2) \n",
    "    return select(c1,c2,c3,c4)\n",
    "def delsmall(eq): # Delete terms who has small coefficient\n",
    "    p = Poly(eq)\n",
    "    for i in [abs(i) for i in p.coeffs() if abs(i) < eps]:\n",
    "        p = p.subs(i,0)\n",
    "    return p  \n",
    "\n",
    "#4 The following are functions for display the result\n",
    "def draw(n,r):\n",
    "    ring(pos=vector(0,0,0), axis=vector(0,0,1), radius=1, thickness=0.02, color=color.red)\n",
    "    for theta in arange(0, 2*pi, 2*pi/n):\n",
    "        ring(pos=vector((1+r)*cos(theta),(1+r)*sin(theta),0), axis=vector(0,0,1), radius=r, thickness=0.02, color=color.red)\n",
    "def displayone(c,n):\n",
    "    x,y,r=c\n",
    "    l = sqrt(x**2+y**2)\n",
    "    start, step = atan(y/x), 2*pi/n\n",
    "    for theta in arange(start, 2*pi, step):\n",
    "        ring(pos=vector(l*cos(theta), l*sin(theta), 0), axis=vector(0,0,1), radius=c[2], thickness=0.01, color=color.blue)\n",
    "def show(r,rr,clist,n,l):\n",
    "    scene.background=vec(0.9,0.9,0.9)\n",
    "    draw(n,r)\n",
    "    for i in clist:\n",
    "        displayone(i,n)\n",
    "    ring(pos=vector(0,0,0), axis=vector(0,0,1), radius=l+rr, thickness=0.01, color=color.green)\n",
    "\n",
    "#5 Given n,m, main(n,m) display the BC[1,n,nxm] problem\n",
    "def main(n,m):    \n",
    "    r = first_layer(n)\n",
    "    rr = 2*r\n",
    "    rmin, rmax,  l = 0, 2*r, f(1,r)+f(rr,r)  \n",
    "    c1,c2,c3 = ((1+r),0,-r),(float(l*cos(-pi/n)), float(l*sin(-pi/n)), -rr),(0,0,l+rr)\n",
    "    clist = circlelist(m//2,[c2],c1,c2,c3)\n",
    "    rlist=[abs(i[2]) for i in clist]\n",
    "    sa = totalangle(m,r,rlist)\n",
    "    while abs(sa-2*pi)>eps:\n",
    "        rr = (rmin+rmax)/2\n",
    "        l = f(1,r)+f(rr,r)   \n",
    "        c1, c2, c3 = ((1+r),0,-r), (l*cos(-pi/n), l*sin(-pi/n), -rr), (0,0,l+rr)\n",
    "        clist = circlelist(m//2,[c2],c1,c2,c3)\n",
    "        rlist = [abs(i[2]) for i in clist]\n",
    "        c = apollonius(c1,c2,c3) # ?\n",
    "        sa = totalangle(m,r,rlist)\n",
    "        if sa>2*pi:\n",
    "            rmax = rr\n",
    "        else:\n",
    "            rmin = rr\n",
    "    clist += [(i[0], -i[1], i[2]) for i in clist[1:][::-1]] if m%2 else [(i[0], -i[1], i[2]) for i in clist[1:-1][::-1]]\n",
    "    show(r,rr,clist,n,l) \n",
    "\n",
    "main(7,7)"
   ]
  },
  {
   "cell_type": "code",
   "execution_count": null,
   "id": "02db5229-acef-4659-8fae-c85023d1ea7a",
   "metadata": {},
   "outputs": [],
   "source": []
  }
 ],
 "metadata": {
  "kernelspec": {
   "display_name": "Python 3",
   "language": "python",
   "name": "python3"
  },
  "language_info": {
   "codemirror_mode": {
    "name": "ipython",
    "version": 3
   },
   "file_extension": ".py",
   "mimetype": "text/x-python",
   "name": "python",
   "nbconvert_exporter": "python",
   "pygments_lexer": "ipython3",
   "version": "3.8.8"
  }
 },
 "nbformat": 4,
 "nbformat_minor": 5
}
